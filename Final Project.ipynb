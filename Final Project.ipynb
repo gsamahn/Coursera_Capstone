{
 "cells": [
  {
   "cell_type": "markdown",
   "metadata": {
    "collapsed": true
   },
   "source": [
    "# Introduction\n"
   ]
  },
  {
   "cell_type": "markdown",
   "metadata": {},
   "source": [
    "New York City is the CITY. It is one of the most renowned city in the world. It is the mecca of fashion, and at the same time, one may argue it is the melting pot, literally the melting pot of different foods. As the city is populated with people from various backgrounds, the residents are also open to different types of food, including Vietnamese pho.\n",
    "\n",
    "This final project explores various locations within NYC and find the best location to open up a Vietnamese PHO noodle house. As Vietnamese pho noodle is gaining popularity among all types of people from all various ethniticies and backgrounds, there are stakeholders willing to open new pho noodle houses within the city of NY. Pho is a Vietnamese soup consisting of broth, rice noodles, herbs, and meat, sometimes chicken. Pho is a popular food in Vietnam where it is served in households, street stalls and restaurants countrywide. During the 2000s, pho restaurants in the United States generated US$500 million in annual revenue, according to an unofficial estimate. Pho can now be found in cafeterias at many college and corporate campuses, especially on the West Coast. However, there is a lack of pho restaurants in the NYC and thus is a demand for this type of restaurant. Thus, this project is to provide an answer to the stakeholders of the \"best location within NYC to open a new pho noodle house.\"  \n",
    "As opening a new pho house would require a big investment and time from the stakeholder's perspective, it would be wise decision to determine where other Vietnamese noodle houses are located in the NYC and avoid opening an area next to another restaurant offering similar menu items (i.e. pho noodle soup). Furthermore, the ideal location of the pho house would be a location where the residents demand pho noodle soup (or Asian food), so that when the restaurant opens, there would be minimal marketing effort in advertising the new restaurant.\n",
    " "
   ]
  },
  {
   "cell_type": "markdown",
   "metadata": {},
   "source": [
    "# Data "
   ]
  },
  {
   "cell_type": "markdown",
   "metadata": {},
   "source": [
    "In order to answer the above questions, various information about the NYC is needed, including NYC neighborhoods, boroughs, locations (latitude, longitude), other restaurants, and its respective restaurant ratings and tips are required and helpful. NYC information of above can be retrieved from the data source: https://cocl.us/new_york_dataset\n",
    "\n",
    "All other information related to locations and quality of other Vietnamese restaurants along with other Asian restaurants (Chinese, Japanese) will be obtained via the FourSquare API utilized through the Request library in Python."
   ]
  }
 ],
 "metadata": {
  "kernelspec": {
   "display_name": "Python 3.7",
   "language": "python",
   "name": "python3"
  },
  "language_info": {
   "codemirror_mode": {
    "name": "ipython",
    "version": 3
   },
   "file_extension": ".py",
   "mimetype": "text/x-python",
   "name": "python",
   "nbconvert_exporter": "python",
   "pygments_lexer": "ipython3",
   "version": "3.7.10"
  }
 },
 "nbformat": 4,
 "nbformat_minor": 1
}
